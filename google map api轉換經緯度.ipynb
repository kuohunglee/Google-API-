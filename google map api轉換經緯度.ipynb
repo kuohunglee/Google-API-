{
 "cells": [
  {
   "cell_type": "markdown",
   "metadata": {},
   "source": [
    "### 安裝&import相關套件"
   ]
  },
  {
   "cell_type": "code",
   "execution_count": null,
   "metadata": {},
   "outputs": [],
   "source": [
    "# 資料參考來源GOOGLE : (https://github.com/googlemaps/google-maps-services-python)"
   ]
  },
  {
   "cell_type": "code",
   "execution_count": 2,
   "metadata": {
    "scrolled": false
   },
   "outputs": [
    {
     "name": "stdout",
     "output_type": "stream",
     "text": [
      "Processing c:\\users\\user\\appdata\\local\\pip\\cache\\wheels\\7e\\30\\c7\\07c30ff7be3c000ed5f8b2aad1083c8697a2afde133f58b5ca\\googlemaps-4.4.2-py3-none-any.whl\n",
      "Requirement already satisfied, skipping upgrade: requests<3.0,>=2.20.0 in c:\\users\\user\\.conda\\envs\\ml\\lib\\site-packages (from googlemaps) (2.24.0)\n",
      "Requirement already satisfied, skipping upgrade: certifi>=2017.4.17 in c:\\users\\user\\.conda\\envs\\ml\\lib\\site-packages (from requests<3.0,>=2.20.0->googlemaps) (2020.6.20)\n",
      "Note: you may need to restart the kernel to use updated packages.\n",
      "Requirement already satisfied, skipping upgrade: idna<3,>=2.5 in c:\\users\\user\\.conda\\envs\\ml\\lib\\site-packages (from requests<3.0,>=2.20.0->googlemaps) (2.10)\n",
      "Requirement already satisfied, skipping upgrade: urllib3!=1.25.0,!=1.25.1,<1.26,>=1.21.1 in c:\\users\\user\\.conda\\envs\\ml\\lib\\site-packages (from requests<3.0,>=2.20.0->googlemaps) (1.25.9)\n",
      "Requirement already satisfied, skipping upgrade: chardet<4,>=3.0.2 in c:\\users\\user\\.conda\\envs\\ml\\lib\\site-packages (from requests<3.0,>=2.20.0->googlemaps) (3.0.4)\n",
      "Installing collected packages: googlemaps\n",
      "Successfully installed googlemaps-4.4.2\n"
     ]
    }
   ],
   "source": [
    "pip install -U googlemaps"
   ]
  },
  {
   "cell_type": "code",
   "execution_count": 2,
   "metadata": {},
   "outputs": [],
   "source": [
    "import googlemaps\n",
    "from datetime import datetime\n",
    "import os\n",
    "import json\n",
    "import pandas as pd"
   ]
  },
  {
   "cell_type": "markdown",
   "metadata": {},
   "source": [
    "### 匯入地址List "
   ]
  },
  {
   "cell_type": "markdown",
   "metadata": {},
   "source": [
    "f=open(\"D:\\\\資策會期末專題資料\\\\房地產\\\\政府資料_雙北房地產\\\\經緯度地址\\\\New_taipei_591_addr_list.json\",'r',encoding='utf-8')\n",
    "strjson = f.read()\n",
    "f.close()\n",
    "New_taipei_591_addr_list = json.loads(strjson)"
   ]
  },
  {
   "cell_type": "code",
   "execution_count": 12,
   "metadata": {},
   "outputs": [],
   "source": [
    "hopital = pd.read_csv('D:\\\\資策會期末專題資料\\\\房地產\\\\醫院地址\\\\hospbsc_right.csv')"
   ]
  },
  {
   "cell_type": "code",
   "execution_count": 14,
   "metadata": {
    "scrolled": true
   },
   "outputs": [
    {
     "name": "stdout",
     "output_type": "stream",
     "text": [
      "<class 'pandas.core.frame.DataFrame'>\n",
      "Int64Index: 33815 entries, 0 to 33985\n",
      "Data columns (total 11 columns):\n",
      " #   Column     Non-Null Count  Dtype  \n",
      "---  ------     --------------  -----  \n",
      " 0   分區別        33815 non-null  int64  \n",
      " 1   醫事機構代碼     33815 non-null  object \n",
      " 2   醫事機構名稱     33815 non-null  object \n",
      " 3   機構地址       29105 non-null  object \n",
      " 4   電話區域號碼     29105 non-null  float64\n",
      " 5   電話號碼       29105 non-null  object \n",
      " 6   特約類別       33815 non-null  object \n",
      " 7   型態別        33815 non-null  object \n",
      " 8   醫事機構種類     33815 non-null  object \n",
      " 9   終止合約或歇業日期  4707 non-null   float64\n",
      " 10  開業狀況       33815 non-null  object \n",
      "dtypes: float64(2), int64(1), object(8)\n",
      "memory usage: 3.1+ MB\n"
     ]
    }
   ],
   "source": [
    "hopital.info()"
   ]
  },
  {
   "cell_type": "code",
   "execution_count": 24,
   "metadata": {},
   "outputs": [
    {
     "data": {
      "text/plain": [
       "分區別              0\n",
       "醫事機構代碼           0\n",
       "醫事機構名稱           0\n",
       "機構地址          4710\n",
       "電話區域號碼        4710\n",
       "電話號碼          4710\n",
       "特約類別             0\n",
       "型態別              0\n",
       "醫事機構種類           0\n",
       "終止合約或歇業日期    29108\n",
       "開業狀況             0\n",
       "dtype: int64"
      ]
     },
     "execution_count": 24,
     "metadata": {},
     "output_type": "execute_result"
    }
   ],
   "source": [
    "hopital.isnull().sum()"
   ]
  },
  {
   "cell_type": "code",
   "execution_count": 27,
   "metadata": {},
   "outputs": [],
   "source": [
    "hopital['機構地址'] = hopital['機構地址'].fillna('無')"
   ]
  },
  {
   "cell_type": "code",
   "execution_count": 41,
   "metadata": {},
   "outputs": [],
   "source": [
    "x = hopital[hopital['醫事機構名稱'].str.contains('服務處')].index\n",
    "hopital.drop(x,axis=0,inplace=True)"
   ]
  },
  {
   "cell_type": "code",
   "execution_count": 101,
   "metadata": {},
   "outputs": [],
   "source": [
    "mask = hopital['機構地址'].str.contains('臺北市|新北市')\n",
    "mask2 = hopital['醫事機構名稱'].str.contains('醫院')\n",
    "ho_df = hopital[mask&mask2]"
   ]
  },
  {
   "cell_type": "code",
   "execution_count": 102,
   "metadata": {},
   "outputs": [],
   "source": [
    "ho_df.reset_index(drop=True,inplace=True)"
   ]
  },
  {
   "cell_type": "code",
   "execution_count": 103,
   "metadata": {},
   "outputs": [
    {
     "data": {
      "text/plain": [
       "94"
      ]
     },
     "execution_count": 103,
     "metadata": {},
     "output_type": "execute_result"
    }
   ],
   "source": [
    "len(ho_df['機構地址'].unique())"
   ]
  },
  {
   "cell_type": "code",
   "execution_count": 107,
   "metadata": {},
   "outputs": [],
   "source": [
    "df = ho_df[['醫事機構名稱','WGS84']]"
   ]
  },
  {
   "cell_type": "code",
   "execution_count": 108,
   "metadata": {},
   "outputs": [],
   "source": [
    "df.to_csv('D:\\\\資策會期末專題資料\\\\房地產\\\\醫院地址\\\\醫院_name_GPS.csv',index=False,encoding='utf-8')"
   ]
  },
  {
   "cell_type": "code",
   "execution_count": 59,
   "metadata": {},
   "outputs": [],
   "source": [
    "ho_df_list = list(ho_df['機構地址'].unique())"
   ]
  },
  {
   "cell_type": "code",
   "execution_count": 73,
   "metadata": {},
   "outputs": [
    {
     "data": {
      "text/plain": [
       "['臺北市大同區鄭州路145號（代表）',\n",
       " '新北市三重區新北大道1段3號、3之1號、板橋區英士路198號',\n",
       " '新北市新莊區思源路127號',\n",
       " '臺北市大安區基隆路3段155巷57號',\n",
       " '臺北市中正區中山南路7、8號；常德街1號',\n",
       " '臺北市中正區中山南路8號',\n",
       " '臺北市萬華區康定路37號、臺北市萬華區內江街87號',\n",
       " '新北市金山區五湖里玉爐路7號',\n",
       " '臺北市北投區石牌路2段201號',\n",
       " '臺北市北投區知行路225巷12號',\n",
       " '臺北市大安區仁愛路4段112巷11號',\n",
       " '臺北市中正區福州街14號',\n",
       " '臺北市萬華區西園路2段266～274號、185、187號',\n",
       " '新北市板橋區文化路1段196號1－4樓',\n",
       " '新北市板橋區文化路1段267、269、271號1－4樓',\n",
       " '新北市新店區安忠路57巷5號',\n",
       " '新北市新莊區中正路395號1－5樓',\n",
       " '新北市三峽區介壽路1段199號',\n",
       " '新北市淡水區忠寮里演戲埔腳1之2號',\n",
       " '臺北市松山區八德路2段424、426號',\n",
       " '臺北市大安區仁愛路4段280號，266巷6號',\n",
       " '臺北市大安區忠孝東路4段77號',\n",
       " '臺北市大安區仁愛路4段71巷1號',\n",
       " '臺北市中山區中山北路2段92號',\n",
       " '臺北市內湖區成功路5段420巷26號',\n",
       " '臺北市士林區文昌路95號及士商路51號1至7樓53、55號',\n",
       " '臺北市北投區振興街45號',\n",
       " '臺北市北投區立德路125號',\n",
       " '新北市板橋區南雅南路2段21號及高爾富路300號',\n",
       " '新北市新店區建國路289號',\n",
       " '新北市三峽區復興路399號、中山路198、258號',\n",
       " '新北市淡水區民生路45號、民權路47號B1至10樓',\n",
       " '新北市汐止區建成路59巷2號地下4樓至地上12樓',\n",
       " '新北市土城區金城路2段6號',\n",
       " '新北市永和區中興街80號Ｂ1-7樓、國光路123號Ｂ3-11樓',\n",
       " '新北市新店區中正路362號、車子路15號',\n",
       " '臺北市內湖區內湖路2段360號',\n",
       " '臺北市信義區吳興街252號',\n",
       " '臺北市文山區興隆路3段111號',\n",
       " '新北市中和區中正路291號',\n",
       " '新北市泰山區貴子路69號（地下4層、地上1至9層及13層）',\n",
       " '臺北市萬華區廣州街200、243號',\n",
       " '臺北市萬華區中華路2段606巷6號',\n",
       " '新北市新莊區中環路1段28號',\n",
       " '臺北市松山區光復北路66、68號',\n",
       " '臺北市松山區八德路4段355號',\n",
       " '臺北市大安區光復南路116巷1、3、5號1至4樓及地下1樓',\n",
       " '臺北市中山區松江路85巷5號93巷6號93巷6號2樓',\n",
       " '臺北市中山區民權東路2段92巷2－1號（地下1樓至地上6樓）',\n",
       " '臺北市文山區羅斯福路6段280號及文山區育英街18巷2號1樓',\n",
       " '新北市板橋區中正路189號',\n",
       " '新北市板橋區南雅南路1段15－1，17，19號',\n",
       " '新北市板橋區忠孝路15號',\n",
       " '新北市板橋區忠孝路5，7，9，11號1－3樓',\n",
       " '新北市三重區三和路2段186－196號',\n",
       " '新北市三重區中興北街21號',\n",
       " '新北市三重區重新路2段2、6號，地下1層至地上9層',\n",
       " '新北市永和區中和路575、577、579號1至4樓',\n",
       " '新北市中和區中山路2段138號2－4樓140號及142號',\n",
       " '新北市中和區中山路2段551號地下1樓至地上1至6樓',\n",
       " '新北市中和區連城路49號1至4樓',\n",
       " '新北市中和區景平路412、412之1號1至5樓',\n",
       " '新北市新店區民權路89號',\n",
       " '新北市新店區安德街26巷3號B棟',\n",
       " '新北市新店區安康路2段323號地上1至2樓B棟',\n",
       " '新北市新莊區中正路215號1－4樓',\n",
       " '新北市新莊區大觀街46－2號',\n",
       " '新北市新莊區新樹路176號',\n",
       " '新北市新莊區中港路127號1－4樓',\n",
       " '新北市樹林區文化街9號',\n",
       " '新北市三峽區介壽路1段286號2樓',\n",
       " '新北市淡水區英專路21巷25、27號、中山路38、40號',\n",
       " '新北市淡水區下圭柔山91巷2號1－4樓地下1樓',\n",
       " '新北市瑞芳區一坑路71之2號',\n",
       " '新北市土城區裕民路274、276、278號',\n",
       " '新北市土城區中央路1段62．64號',\n",
       " '新北市土城區中央路2段318－324號1－4樓',\n",
       " '新北市土城區中央路1段7－18號地下1樓、1樓、2樓',\n",
       " '新北市蘆洲區三民路5、7、9號（1）樓',\n",
       " '新北市三芝區楓子林路42－5號',\n",
       " '臺北市松山區八德路4段694號1、2樓',\n",
       " '臺北市大安區辛亥路3段15號',\n",
       " '臺北市大同區昌吉街52號1至2樓',\n",
       " '臺北市中山區松江路367號1樓',\n",
       " '臺北市內湖區民權東路6段99號',\n",
       " '臺北市南港區南港路1段360號1樓',\n",
       " '臺北市士林區中正路439號1樓',\n",
       " '臺北市士林區中正路439號',\n",
       " '臺北市北投區新市街30號5樓',\n",
       " '臺北市信義區信義路5段15號',\n",
       " '臺北市中正區牯嶺街24號',\n",
       " '臺北市萬華區東園街152號',\n",
       " '臺北市文山區指南路2段117號',\n",
       " '臺北市松山區敦化北路199號']"
      ]
     },
     "execution_count": 73,
     "metadata": {},
     "output_type": "execute_result"
    }
   ],
   "source": [
    "ho_df_list"
   ]
  },
  {
   "cell_type": "code",
   "execution_count": 71,
   "metadata": {
    "scrolled": true
   },
   "outputs": [
    {
     "data": {
      "text/plain": [
       "94"
      ]
     },
     "execution_count": 71,
     "metadata": {},
     "output_type": "execute_result"
    }
   ],
   "source": [
    "len(ho_df_list)"
   ]
  },
  {
   "cell_type": "code",
   "execution_count": 74,
   "metadata": {},
   "outputs": [
    {
     "data": {
      "text/plain": [
       "94"
      ]
     },
     "execution_count": 74,
     "metadata": {},
     "output_type": "execute_result"
    }
   ],
   "source": [
    "len(geo_list)"
   ]
  },
  {
   "cell_type": "code",
   "execution_count": 75,
   "metadata": {},
   "outputs": [
    {
     "data": {
      "text/plain": [
       "['25.0509696,121.5093209',\n",
       " '25.0607879,121.4909924',\n",
       " '25.0429644,121.4595886',\n",
       " '25.0145031,121.5441315',\n",
       " '25.0419853,121.517217',\n",
       " '25.0442304,121.5188189',\n",
       " '25.0416742,121.5035665',\n",
       " '25.2195534,121.628399',\n",
       " '25.1192105,121.5203822',\n",
       " '25.1203139,121.4661286',\n",
       " '25.0365128,121.5499646',\n",
       " '25.0287244,121.5187299',\n",
       " '25.0277877,121.4945402',\n",
       " '25.0187829,121.4652441',\n",
       " '25.0183857,121.4645661',\n",
       " '24.9590299,121.513413',\n",
       " '25.0344689,121.4454927',\n",
       " '24.9307144,121.3783436',\n",
       " '25.193765,121.475468',\n",
       " '25.0480541,121.547339',\n",
       " '25.0368778,121.5538588',\n",
       " '25.0418484,121.547396',\n",
       " '25.0381916,121.5466881',\n",
       " '25.0588322,121.5223675',\n",
       " '25.0758907,121.6089476',\n",
       " 'n,a',\n",
       " '25.117512,121.5224672',\n",
       " '25.1284955,121.4720103',\n",
       " '24.9970299,121.452595',\n",
       " '24.9860629,121.5356762',\n",
       " '24.9383074,121.362904',\n",
       " 'n,a',\n",
       " '25.0728278,121.661017',\n",
       " '24.9768695,121.4487782',\n",
       " '25.011904,121.517908',\n",
       " '24.976293,121.5357523',\n",
       " '25.0821265,121.5907054',\n",
       " '25.0270409,121.5631091',\n",
       " '24.999901,121.55814',\n",
       " '24.9926989,121.4935259',\n",
       " 'n,a',\n",
       " '25.0366809,121.4980941',\n",
       " '25.0239991,121.50981',\n",
       " '25.0260291,121.4425118',\n",
       " '25.0499097,121.5576835',\n",
       " '25.0494027,121.5681918',\n",
       " '25.0430946,121.556835',\n",
       " '25.0502613,121.5339092',\n",
       " '25.0614683,121.5315551',\n",
       " '24.991198,121.5398813',\n",
       " '25.0168642,121.4564036',\n",
       " '25.0068854,121.4564325',\n",
       " '25.0019608,121.460159',\n",
       " '25.0019307,121.4599294',\n",
       " '25.0688529,121.498712',\n",
       " '25.0465578,121.4696738',\n",
       " '25.062801,121.499882',\n",
       " '25.0038581,121.51187',\n",
       " '25.0032187,121.5020578',\n",
       " '25.005464,121.480915',\n",
       " 'n,a',\n",
       " '24.993283,121.508262',\n",
       " '24.982687,121.537736',\n",
       " '24.9632775,121.511364',\n",
       " 'n,a',\n",
       " '25.0357595,121.4512035',\n",
       " '25.0358477,121.4537914',\n",
       " '25.0214551,121.4343264',\n",
       " '25.0401053,121.4551363',\n",
       " '24.9871737,121.4200433',\n",
       " '24.9322201,121.3760214',\n",
       " '25.1698132,121.4446935',\n",
       " '25.2087054,121.4496153',\n",
       " '25.1086013,121.8021747',\n",
       " '24.9822464,121.4548156',\n",
       " '24.989568,121.447319',\n",
       " '24.972893,121.440317',\n",
       " '24.968371,121.438034',\n",
       " '25.0818403,121.4758252',\n",
       " '25.2084559,121.4960465',\n",
       " '25.0498403,121.5773221',\n",
       " '25.0215769,121.544274',\n",
       " 'n,a',\n",
       " '25.064444,121.533568',\n",
       " '25.0693188,121.5890863',\n",
       " '25.0545654,121.6068639',\n",
       " '25.0927619,121.5195592',\n",
       " '25.0927619,121.5195592',\n",
       " '25.1323774,121.5029288',\n",
       " '25.0333271,121.5668474',\n",
       " '25.0304135,121.51592',\n",
       " '25.0231545,121.497548',\n",
       " '24.987628,121.5765284',\n",
       " '25.0555992,121.5496556']"
      ]
     },
     "execution_count": 75,
     "metadata": {},
     "output_type": "execute_result"
    }
   ],
   "source": [
    "geo_str_list = []\n",
    "for i in geo_list:\n",
    "    \n",
    "    if i == None:\n",
    "        i='nan'\n",
    "        geo_str_list.append(i)\n",
    "    else:\n",
    "        x=i[0]\n",
    "        y=i[1]\n",
    "        z = f'{x},{y}'\n",
    "        geo_str_list.append(z)\n",
    "\n",
    "geo_str_list"
   ]
  },
  {
   "cell_type": "code",
   "execution_count": 77,
   "metadata": {
    "scrolled": true
   },
   "outputs": [],
   "source": [
    "hopital['WGS84'] = hopital['機構地址'].replace(ho_df_list,geo_str_list)"
   ]
  },
  {
   "cell_type": "code",
   "execution_count": 99,
   "metadata": {},
   "outputs": [],
   "source": [
    "hopital.loc[118,'WGS84']='25.065819,121.516270'"
   ]
  },
  {
   "cell_type": "code",
   "execution_count": 95,
   "metadata": {},
   "outputs": [
    {
     "data": {
      "text/plain": [
       "'25.139501,121.460422'"
      ]
     },
     "execution_count": 95,
     "metadata": {},
     "output_type": "execute_result"
    }
   ],
   "source": [
    "hopital.loc[48,'WGS84']"
   ]
  },
  {
   "cell_type": "code",
   "execution_count": 100,
   "metadata": {},
   "outputs": [
    {
     "data": {
      "text/html": [
       "<div>\n",
       "<style scoped>\n",
       "    .dataframe tbody tr th:only-of-type {\n",
       "        vertical-align: middle;\n",
       "    }\n",
       "\n",
       "    .dataframe tbody tr th {\n",
       "        vertical-align: top;\n",
       "    }\n",
       "\n",
       "    .dataframe thead th {\n",
       "        text-align: right;\n",
       "    }\n",
       "</style>\n",
       "<table border=\"1\" class=\"dataframe\">\n",
       "  <thead>\n",
       "    <tr style=\"text-align: right;\">\n",
       "      <th></th>\n",
       "      <th>分區別</th>\n",
       "      <th>醫事機構代碼</th>\n",
       "      <th>醫事機構名稱</th>\n",
       "      <th>機構地址</th>\n",
       "      <th>電話區域號碼</th>\n",
       "      <th>電話號碼</th>\n",
       "      <th>特約類別</th>\n",
       "      <th>型態別</th>\n",
       "      <th>醫事機構種類</th>\n",
       "      <th>終止合約或歇業日期</th>\n",
       "      <th>開業狀況</th>\n",
       "      <th>WGS84</th>\n",
       "    </tr>\n",
       "  </thead>\n",
       "  <tbody>\n",
       "  </tbody>\n",
       "</table>\n",
       "</div>"
      ],
      "text/plain": [
       "Empty DataFrame\n",
       "Columns: [分區別, 醫事機構代碼, 醫事機構名稱, 機構地址, 電話區域號碼 , 電話號碼, 特約類別, 型態別, 醫事機構種類, 終止合約或歇業日期, 開業狀況, WGS84]\n",
       "Index: []"
      ]
     },
     "execution_count": 100,
     "metadata": {},
     "output_type": "execute_result"
    }
   ],
   "source": [
    "hopital[hopital['WGS84']=='n,a']"
   ]
  },
  {
   "cell_type": "code",
   "execution_count": null,
   "metadata": {},
   "outputs": [],
   "source": []
  },
  {
   "cell_type": "markdown",
   "metadata": {},
   "source": [
    "### 創建空List並用迴圈來存取(經度,緯度)"
   ]
  },
  {
   "cell_type": "code",
   "execution_count": 65,
   "metadata": {},
   "outputs": [],
   "source": [
    "#創建空List\n",
    "geo_list = []"
   ]
  },
  {
   "cell_type": "code",
   "execution_count": 66,
   "metadata": {
    "scrolled": true
   },
   "outputs": [
    {
     "name": "stdout",
     "output_type": "stream",
     "text": [
      "0\n",
      "1\n",
      "2\n",
      "3\n",
      "4\n",
      "5\n",
      "6\n",
      "7\n",
      "8\n",
      "9\n",
      "10\n",
      "11\n",
      "12\n",
      "13\n",
      "14\n",
      "15\n",
      "16\n",
      "17\n",
      "18\n",
      "19\n",
      "20\n",
      "21\n",
      "22\n",
      "23\n",
      "24\n",
      "25\n",
      "26\n",
      "27\n",
      "28\n",
      "29\n",
      "30\n",
      "31\n",
      "32\n",
      "33\n",
      "34\n",
      "35\n",
      "36\n",
      "37\n",
      "38\n",
      "39\n",
      "40\n",
      "41\n",
      "42\n",
      "43\n",
      "44\n",
      "45\n",
      "46\n",
      "47\n",
      "48\n",
      "49\n",
      "50\n",
      "51\n",
      "52\n",
      "53\n",
      "54\n",
      "55\n",
      "56\n",
      "57\n",
      "58\n",
      "59\n",
      "60\n",
      "61\n",
      "62\n",
      "63\n",
      "64\n",
      "65\n",
      "66\n",
      "67\n",
      "68\n",
      "69\n",
      "70\n",
      "71\n",
      "72\n",
      "73\n",
      "74\n",
      "75\n",
      "76\n",
      "77\n",
      "78\n",
      "79\n",
      "80\n",
      "81\n",
      "82\n",
      "83\n",
      "84\n",
      "85\n",
      "86\n",
      "87\n",
      "88\n",
      "89\n",
      "90\n",
      "91\n",
      "92\n",
      "93\n",
      "總比數:94\n"
     ]
    }
   ],
   "source": [
    "#第幾筆資料計數器\n",
    "n=-1\n",
    "\n",
    "#提取經緯度\n",
    "for addr in ho_df_list:\n",
    "    try:\n",
    "        #google Geocoding API \n",
    "        gmaps = googlemaps.Client(key='') #要用自己的信用卡獲取喔(•‿•)\n",
    "\n",
    "        # Geocoding an address\n",
    "        geocode_result = gmaps.geocode(addr)\n",
    "        \n",
    "        #get the lat & lng from geocode_result and put them into geo_list\n",
    "        lat = geocode_result[0]['geometry']['location']['lat']\n",
    "        lng = geocode_result[0]['geometry']['location']['lng']\n",
    "        geo_tuple = (f'{lat}',f'{lng}')\n",
    "        geo_list.append(geo_tuple)\n",
    "        \n",
    "        #counting\n",
    "        n+=1\n",
    "        print(n)\n",
    "    \n",
    "    #using except to catch some error happend in addresses and replace them with the None value\n",
    "    except:\n",
    "        geo_tuple = 'nan'\n",
    "        geo_list.append(geo_tuple)\n",
    "        n+=1\n",
    "        print(n)\n",
    "        continue\n",
    "\n",
    "\n",
    "#checking\n",
    "x = len(geo_list)\n",
    "print(f'總比數:{x}')"
   ]
  },
  {
   "cell_type": "code",
   "execution_count": 67,
   "metadata": {},
   "outputs": [],
   "source": [
    "#匯出GPS List\n",
    "f=open(\"D:\\\\資策會期末專題資料\\\\房地產\\\\嫌惡設施\\\\雙北醫院GPS.json\",'w',encoding='utf-8')\n",
    "f.write(json.dumps(geo_list, ensure_ascii=False))\n",
    "f.close()"
   ]
  },
  {
   "cell_type": "code",
   "execution_count": 70,
   "metadata": {},
   "outputs": [
    {
     "data": {
      "text/plain": [
       "[('25.0509696', '121.5093209'),\n",
       " ('25.0607879', '121.4909924'),\n",
       " ('25.0429644', '121.4595886'),\n",
       " ('25.0145031', '121.5441315'),\n",
       " ('25.0419853', '121.517217'),\n",
       " ('25.0442304', '121.5188189'),\n",
       " ('25.0416742', '121.5035665'),\n",
       " ('25.2195534', '121.628399'),\n",
       " ('25.1192105', '121.5203822'),\n",
       " ('25.1203139', '121.4661286'),\n",
       " ('25.0365128', '121.5499646'),\n",
       " ('25.0287244', '121.5187299'),\n",
       " ('25.0277877', '121.4945402'),\n",
       " ('25.0187829', '121.4652441'),\n",
       " ('25.0183857', '121.4645661'),\n",
       " ('24.9590299', '121.513413'),\n",
       " ('25.0344689', '121.4454927'),\n",
       " ('24.9307144', '121.3783436'),\n",
       " ('25.193765', '121.475468'),\n",
       " ('25.0480541', '121.547339'),\n",
       " ('25.0368778', '121.5538588'),\n",
       " ('25.0418484', '121.547396'),\n",
       " ('25.0381916', '121.5466881'),\n",
       " ('25.0588322', '121.5223675'),\n",
       " ('25.0758907', '121.6089476'),\n",
       " 'nan',\n",
       " ('25.117512', '121.5224672'),\n",
       " ('25.1284955', '121.4720103'),\n",
       " ('24.9970299', '121.452595'),\n",
       " ('24.9860629', '121.5356762'),\n",
       " ('24.9383074', '121.362904'),\n",
       " 'nan',\n",
       " ('25.0728278', '121.661017'),\n",
       " ('24.9768695', '121.4487782'),\n",
       " ('25.011904', '121.517908'),\n",
       " ('24.976293', '121.5357523'),\n",
       " ('25.0821265', '121.5907054'),\n",
       " ('25.0270409', '121.5631091'),\n",
       " ('24.999901', '121.55814'),\n",
       " ('24.9926989', '121.4935259'),\n",
       " 'nan',\n",
       " ('25.0366809', '121.4980941'),\n",
       " ('25.0239991', '121.50981'),\n",
       " ('25.0260291', '121.4425118'),\n",
       " ('25.0499097', '121.5576835'),\n",
       " ('25.0494027', '121.5681918'),\n",
       " ('25.0430946', '121.556835'),\n",
       " ('25.0502613', '121.5339092'),\n",
       " ('25.0614683', '121.5315551'),\n",
       " ('24.991198', '121.5398813'),\n",
       " ('25.0168642', '121.4564036'),\n",
       " ('25.0068854', '121.4564325'),\n",
       " ('25.0019608', '121.460159'),\n",
       " ('25.0019307', '121.4599294'),\n",
       " ('25.0688529', '121.498712'),\n",
       " ('25.0465578', '121.4696738'),\n",
       " ('25.062801', '121.499882'),\n",
       " ('25.0038581', '121.51187'),\n",
       " ('25.0032187', '121.5020578'),\n",
       " ('25.005464', '121.480915'),\n",
       " 'nan',\n",
       " ('24.993283', '121.508262'),\n",
       " ('24.982687', '121.537736'),\n",
       " ('24.9632775', '121.511364'),\n",
       " 'nan',\n",
       " ('25.0357595', '121.4512035'),\n",
       " ('25.0358477', '121.4537914'),\n",
       " ('25.0214551', '121.4343264'),\n",
       " ('25.0401053', '121.4551363'),\n",
       " ('24.9871737', '121.4200433'),\n",
       " ('24.9322201', '121.3760214'),\n",
       " ('25.1698132', '121.4446935'),\n",
       " ('25.2087054', '121.4496153'),\n",
       " ('25.1086013', '121.8021747'),\n",
       " ('24.9822464', '121.4548156'),\n",
       " ('24.989568', '121.447319'),\n",
       " ('24.972893', '121.440317'),\n",
       " ('24.968371', '121.438034'),\n",
       " ('25.0818403', '121.4758252'),\n",
       " ('25.2084559', '121.4960465'),\n",
       " ('25.0498403', '121.5773221'),\n",
       " ('25.0215769', '121.544274'),\n",
       " 'nan',\n",
       " ('25.064444', '121.533568'),\n",
       " ('25.0693188', '121.5890863'),\n",
       " ('25.0545654', '121.6068639'),\n",
       " ('25.0927619', '121.5195592'),\n",
       " ('25.0927619', '121.5195592'),\n",
       " ('25.1323774', '121.5029288'),\n",
       " ('25.0333271', '121.5668474'),\n",
       " ('25.0304135', '121.51592'),\n",
       " ('25.0231545', '121.497548'),\n",
       " ('24.987628', '121.5765284'),\n",
       " ('25.0555992', '121.5496556')]"
      ]
     },
     "execution_count": 70,
     "metadata": {},
     "output_type": "execute_result"
    }
   ],
   "source": [
    "geo_list"
   ]
  },
  {
   "cell_type": "markdown",
   "metadata": {},
   "source": [
    "### 合併不同範圍的GPS_List"
   ]
  },
  {
   "cell_type": "code",
   "execution_count": 151,
   "metadata": {},
   "outputs": [],
   "source": [
    "f=open(\"D:\\\\資策會期末專題資料\\\\房地產\\\\政府資料_雙北房地產\\\\經緯度地址\\\\dual_taipei_geo_list_0_999.json\",'r',encoding='utf-8')\n",
    "strjson = f.read()\n",
    "f.close()\n",
    "d1 = json.loads(strjson)\n",
    "\n",
    "f=open(\"D:\\\\資策會期末專題資料\\\\房地產\\\\政府資料_雙北房地產\\\\經緯度地址\\\\dual_taipei_geo_list_1000_8241.json\",'r',encoding='utf-8')\n",
    "strjson = f.read()\n",
    "f.close()\n",
    "d2 = json.loads(strjson)\n",
    "\n",
    "f=open(\"D:\\\\資策會期末專題資料\\\\房地產\\\\政府資料_雙北房地產\\\\經緯度地址\\\\dual_taipei_geo_list_8242_13182.json\",'r',encoding='utf-8')\n",
    "strjson = f.read()\n",
    "f.close()\n",
    "d3 = json.loads(strjson)\n",
    "\n",
    "f=open(\"D:\\\\資策會期末專題資料\\\\房地產\\\\政府資料_雙北房地產\\\\經緯度地址\\\\dual_taipei_geo_list_13183_14030.json\",'r',encoding='utf-8')\n",
    "strjson = f.read()\n",
    "f.close()\n",
    "d4 = json.loads(strjson)\n",
    "\n",
    "f=open(\"D:\\\\資策會期末專題資料\\\\房地產\\\\政府資料_雙北房地產\\\\經緯度地址\\\\dual_taipei_geo_list_14031_41998.json\",'r',encoding='utf-8')\n",
    "strjson = f.read()\n",
    "f.close()\n",
    "d5 = json.loads(strjson)"
   ]
  },
  {
   "cell_type": "code",
   "execution_count": 152,
   "metadata": {},
   "outputs": [],
   "source": [
    "d_total = d1+d2+d3+d4+d5"
   ]
  },
  {
   "cell_type": "code",
   "execution_count": 153,
   "metadata": {},
   "outputs": [
    {
     "data": {
      "text/plain": [
       "41199"
      ]
     },
     "execution_count": 153,
     "metadata": {},
     "output_type": "execute_result"
    }
   ],
   "source": [
    "len(d_total)"
   ]
  },
  {
   "cell_type": "code",
   "execution_count": 154,
   "metadata": {},
   "outputs": [],
   "source": [
    "#匯出\n",
    "f=open(\"D:\\\\資策會期末專題資料\\\\房地產\\\\政府資料_雙北房地產\\\\經緯度地址\\\\dual_taipei_geo_list_merge.json\",'w', encoding='utf-8')\n",
    "f.write(json.dumps(d_total, ensure_ascii=False))\n",
    "f.close()"
   ]
  }
 ],
 "metadata": {
  "kernelspec": {
   "display_name": "Python 3",
   "language": "python",
   "name": "python3"
  },
  "language_info": {
   "codemirror_mode": {
    "name": "ipython",
    "version": 3
   },
   "file_extension": ".py",
   "mimetype": "text/x-python",
   "name": "python",
   "nbconvert_exporter": "python",
   "pygments_lexer": "ipython3",
   "version": "3.7.6"
  }
 },
 "nbformat": 4,
 "nbformat_minor": 4
}
